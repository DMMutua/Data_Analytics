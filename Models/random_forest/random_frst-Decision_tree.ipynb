{
  "nbformat": 4,
  "nbformat_minor": 0,
  "metadata": {
    "colab": {
      "provenance": []
    },
    "kernelspec": {
      "name": "python3",
      "display_name": "Python 3"
    },
    "language_info": {
      "name": "python"
    }
  },
  "cells": [
    {
      "cell_type": "code",
      "source": [
        "# Installing Necessary Libraries and Requirements\n",
        "import pandas as pd\n",
        "import matplotlib.pyplot as plt\n"
      ],
      "metadata": {
        "id": "kyTYDEFarKYt"
      },
      "execution_count": null,
      "outputs": []
    },
    {
      "cell_type": "markdown",
      "source": [
        "# Loading and Exploring the Dataset"
      ],
      "metadata": {
        "id": "bU09DOFJq8-f"
      }
    },
    {
      "cell_type": "code",
      "source": [
        "data = pd.read_csv('Data(2).csv')\n"
      ],
      "metadata": {
        "id": "tp-aAhwFrDVj"
      },
      "execution_count": null,
      "outputs": []
    },
    {
      "cell_type": "code",
      "source": [
        "data.head()"
      ],
      "metadata": {
        "colab": {
          "base_uri": "https://localhost:8080/",
          "height": 206
        },
        "id": "2BM-u9RTux7H",
        "outputId": "56e2464f-57cb-4756-b816-f0c267a14e0e"
      },
      "execution_count": null,
      "outputs": [
        {
          "output_type": "execute_result",
          "data": {
            "text/plain": [
              "      Status Fulfilment   Delivery Size        State       Promotion Category  \\\n",
              "0  Cancelled   Merchant   Standard    S  MAHARASHTRA            None   Jacket   \n",
              "1    Shipped   Merchant   Standard  3XL    KARNATAKA  Free-Financing    Denim   \n",
              "2    Shipped     Amazon  Expedited   XL  MAHARASHTRA   Free Shipping    Denim   \n",
              "3  Cancelled   Merchant   Standard    L   PUDUCHERRY            None   Fleece   \n",
              "4    Shipped     Amazon  Expedited  3XL   TAMIL NADU            None    Shoes   \n",
              "\n",
              "   Month  Amount  \n",
              "0  April  647.62  \n",
              "1  April  406.00  \n",
              "2  April  329.00  \n",
              "3  April  753.33  \n",
              "4  April  574.00  "
            ],
            "text/html": [
              "\n",
              "  <div id=\"df-55dfda74-1c23-4e72-8c95-5562ecf4d9d6\">\n",
              "    <div class=\"colab-df-container\">\n",
              "      <div>\n",
              "<style scoped>\n",
              "    .dataframe tbody tr th:only-of-type {\n",
              "        vertical-align: middle;\n",
              "    }\n",
              "\n",
              "    .dataframe tbody tr th {\n",
              "        vertical-align: top;\n",
              "    }\n",
              "\n",
              "    .dataframe thead th {\n",
              "        text-align: right;\n",
              "    }\n",
              "</style>\n",
              "<table border=\"1\" class=\"dataframe\">\n",
              "  <thead>\n",
              "    <tr style=\"text-align: right;\">\n",
              "      <th></th>\n",
              "      <th>Status</th>\n",
              "      <th>Fulfilment</th>\n",
              "      <th>Delivery</th>\n",
              "      <th>Size</th>\n",
              "      <th>State</th>\n",
              "      <th>Promotion</th>\n",
              "      <th>Category</th>\n",
              "      <th>Month</th>\n",
              "      <th>Amount</th>\n",
              "    </tr>\n",
              "  </thead>\n",
              "  <tbody>\n",
              "    <tr>\n",
              "      <th>0</th>\n",
              "      <td>Cancelled</td>\n",
              "      <td>Merchant</td>\n",
              "      <td>Standard</td>\n",
              "      <td>S</td>\n",
              "      <td>MAHARASHTRA</td>\n",
              "      <td>None</td>\n",
              "      <td>Jacket</td>\n",
              "      <td>April</td>\n",
              "      <td>647.62</td>\n",
              "    </tr>\n",
              "    <tr>\n",
              "      <th>1</th>\n",
              "      <td>Shipped</td>\n",
              "      <td>Merchant</td>\n",
              "      <td>Standard</td>\n",
              "      <td>3XL</td>\n",
              "      <td>KARNATAKA</td>\n",
              "      <td>Free-Financing</td>\n",
              "      <td>Denim</td>\n",
              "      <td>April</td>\n",
              "      <td>406.00</td>\n",
              "    </tr>\n",
              "    <tr>\n",
              "      <th>2</th>\n",
              "      <td>Shipped</td>\n",
              "      <td>Amazon</td>\n",
              "      <td>Expedited</td>\n",
              "      <td>XL</td>\n",
              "      <td>MAHARASHTRA</td>\n",
              "      <td>Free Shipping</td>\n",
              "      <td>Denim</td>\n",
              "      <td>April</td>\n",
              "      <td>329.00</td>\n",
              "    </tr>\n",
              "    <tr>\n",
              "      <th>3</th>\n",
              "      <td>Cancelled</td>\n",
              "      <td>Merchant</td>\n",
              "      <td>Standard</td>\n",
              "      <td>L</td>\n",
              "      <td>PUDUCHERRY</td>\n",
              "      <td>None</td>\n",
              "      <td>Fleece</td>\n",
              "      <td>April</td>\n",
              "      <td>753.33</td>\n",
              "    </tr>\n",
              "    <tr>\n",
              "      <th>4</th>\n",
              "      <td>Shipped</td>\n",
              "      <td>Amazon</td>\n",
              "      <td>Expedited</td>\n",
              "      <td>3XL</td>\n",
              "      <td>TAMIL NADU</td>\n",
              "      <td>None</td>\n",
              "      <td>Shoes</td>\n",
              "      <td>April</td>\n",
              "      <td>574.00</td>\n",
              "    </tr>\n",
              "  </tbody>\n",
              "</table>\n",
              "</div>\n",
              "      <button class=\"colab-df-convert\" onclick=\"convertToInteractive('df-55dfda74-1c23-4e72-8c95-5562ecf4d9d6')\"\n",
              "              title=\"Convert this dataframe to an interactive table.\"\n",
              "              style=\"display:none;\">\n",
              "        \n",
              "  <svg xmlns=\"http://www.w3.org/2000/svg\" height=\"24px\"viewBox=\"0 0 24 24\"\n",
              "       width=\"24px\">\n",
              "    <path d=\"M0 0h24v24H0V0z\" fill=\"none\"/>\n",
              "    <path d=\"M18.56 5.44l.94 2.06.94-2.06 2.06-.94-2.06-.94-.94-2.06-.94 2.06-2.06.94zm-11 1L8.5 8.5l.94-2.06 2.06-.94-2.06-.94L8.5 2.5l-.94 2.06-2.06.94zm10 10l.94 2.06.94-2.06 2.06-.94-2.06-.94-.94-2.06-.94 2.06-2.06.94z\"/><path d=\"M17.41 7.96l-1.37-1.37c-.4-.4-.92-.59-1.43-.59-.52 0-1.04.2-1.43.59L10.3 9.45l-7.72 7.72c-.78.78-.78 2.05 0 2.83L4 21.41c.39.39.9.59 1.41.59.51 0 1.02-.2 1.41-.59l7.78-7.78 2.81-2.81c.8-.78.8-2.07 0-2.86zM5.41 20L4 18.59l7.72-7.72 1.47 1.35L5.41 20z\"/>\n",
              "  </svg>\n",
              "      </button>\n",
              "      \n",
              "  <style>\n",
              "    .colab-df-container {\n",
              "      display:flex;\n",
              "      flex-wrap:wrap;\n",
              "      gap: 12px;\n",
              "    }\n",
              "\n",
              "    .colab-df-convert {\n",
              "      background-color: #E8F0FE;\n",
              "      border: none;\n",
              "      border-radius: 50%;\n",
              "      cursor: pointer;\n",
              "      display: none;\n",
              "      fill: #1967D2;\n",
              "      height: 32px;\n",
              "      padding: 0 0 0 0;\n",
              "      width: 32px;\n",
              "    }\n",
              "\n",
              "    .colab-df-convert:hover {\n",
              "      background-color: #E2EBFA;\n",
              "      box-shadow: 0px 1px 2px rgba(60, 64, 67, 0.3), 0px 1px 3px 1px rgba(60, 64, 67, 0.15);\n",
              "      fill: #174EA6;\n",
              "    }\n",
              "\n",
              "    [theme=dark] .colab-df-convert {\n",
              "      background-color: #3B4455;\n",
              "      fill: #D2E3FC;\n",
              "    }\n",
              "\n",
              "    [theme=dark] .colab-df-convert:hover {\n",
              "      background-color: #434B5C;\n",
              "      box-shadow: 0px 1px 3px 1px rgba(0, 0, 0, 0.15);\n",
              "      filter: drop-shadow(0px 1px 2px rgba(0, 0, 0, 0.3));\n",
              "      fill: #FFFFFF;\n",
              "    }\n",
              "  </style>\n",
              "\n",
              "      <script>\n",
              "        const buttonEl =\n",
              "          document.querySelector('#df-55dfda74-1c23-4e72-8c95-5562ecf4d9d6 button.colab-df-convert');\n",
              "        buttonEl.style.display =\n",
              "          google.colab.kernel.accessAllowed ? 'block' : 'none';\n",
              "\n",
              "        async function convertToInteractive(key) {\n",
              "          const element = document.querySelector('#df-55dfda74-1c23-4e72-8c95-5562ecf4d9d6');\n",
              "          const dataTable =\n",
              "            await google.colab.kernel.invokeFunction('convertToInteractive',\n",
              "                                                     [key], {});\n",
              "          if (!dataTable) return;\n",
              "\n",
              "          const docLinkHtml = 'Like what you see? Visit the ' +\n",
              "            '<a target=\"_blank\" href=https://colab.research.google.com/notebooks/data_table.ipynb>data table notebook</a>'\n",
              "            + ' to learn more about interactive tables.';\n",
              "          element.innerHTML = '';\n",
              "          dataTable['output_type'] = 'display_data';\n",
              "          await google.colab.output.renderOutput(dataTable, element);\n",
              "          const docLink = document.createElement('div');\n",
              "          docLink.innerHTML = docLinkHtml;\n",
              "          element.appendChild(docLink);\n",
              "        }\n",
              "      </script>\n",
              "    </div>\n",
              "  </div>\n",
              "  "
            ]
          },
          "metadata": {},
          "execution_count": 7
        }
      ]
    },
    {
      "cell_type": "code",
      "source": [
        "data.tail()"
      ],
      "metadata": {
        "colab": {
          "base_uri": "https://localhost:8080/",
          "height": 206
        },
        "id": "HIqGcmdBvDEv",
        "outputId": "4eb5884d-4f2d-48f5-9684-660b7a00690c"
      },
      "execution_count": null,
      "outputs": [
        {
          "output_type": "execute_result",
          "data": {
            "text/plain": [
              "         Status Fulfilment   Delivery Size         State      Promotion  \\\n",
              "124979  Shipped     Amazon  Expedited   XL     TELANGANA           None   \n",
              "124980  Shipped     Amazon  Expedited    M       HARYANA  Free Shipping   \n",
              "124981  Shipped     Amazon  Expedited  XXL     TELANGANA           None   \n",
              "124982  Shipped     Amazon  Expedited   XS       Gujarat  Free Shipping   \n",
              "124983  Shipped     Amazon  Expedited    S  CHHATTISGARH  Free Shipping   \n",
              "\n",
              "       Category Month  Amount  \n",
              "124979    Denim   May   517.0  \n",
              "124980   Jacket   May   999.0  \n",
              "124981   Fleece   May   690.0  \n",
              "124982   Jacket   May  1079.6  \n",
              "124983   Jacket   May   696.0  "
            ],
            "text/html": [
              "\n",
              "  <div id=\"df-671c4baf-27f5-490e-ba18-9c54048bd6e7\">\n",
              "    <div class=\"colab-df-container\">\n",
              "      <div>\n",
              "<style scoped>\n",
              "    .dataframe tbody tr th:only-of-type {\n",
              "        vertical-align: middle;\n",
              "    }\n",
              "\n",
              "    .dataframe tbody tr th {\n",
              "        vertical-align: top;\n",
              "    }\n",
              "\n",
              "    .dataframe thead th {\n",
              "        text-align: right;\n",
              "    }\n",
              "</style>\n",
              "<table border=\"1\" class=\"dataframe\">\n",
              "  <thead>\n",
              "    <tr style=\"text-align: right;\">\n",
              "      <th></th>\n",
              "      <th>Status</th>\n",
              "      <th>Fulfilment</th>\n",
              "      <th>Delivery</th>\n",
              "      <th>Size</th>\n",
              "      <th>State</th>\n",
              "      <th>Promotion</th>\n",
              "      <th>Category</th>\n",
              "      <th>Month</th>\n",
              "      <th>Amount</th>\n",
              "    </tr>\n",
              "  </thead>\n",
              "  <tbody>\n",
              "    <tr>\n",
              "      <th>124979</th>\n",
              "      <td>Shipped</td>\n",
              "      <td>Amazon</td>\n",
              "      <td>Expedited</td>\n",
              "      <td>XL</td>\n",
              "      <td>TELANGANA</td>\n",
              "      <td>None</td>\n",
              "      <td>Denim</td>\n",
              "      <td>May</td>\n",
              "      <td>517.0</td>\n",
              "    </tr>\n",
              "    <tr>\n",
              "      <th>124980</th>\n",
              "      <td>Shipped</td>\n",
              "      <td>Amazon</td>\n",
              "      <td>Expedited</td>\n",
              "      <td>M</td>\n",
              "      <td>HARYANA</td>\n",
              "      <td>Free Shipping</td>\n",
              "      <td>Jacket</td>\n",
              "      <td>May</td>\n",
              "      <td>999.0</td>\n",
              "    </tr>\n",
              "    <tr>\n",
              "      <th>124981</th>\n",
              "      <td>Shipped</td>\n",
              "      <td>Amazon</td>\n",
              "      <td>Expedited</td>\n",
              "      <td>XXL</td>\n",
              "      <td>TELANGANA</td>\n",
              "      <td>None</td>\n",
              "      <td>Fleece</td>\n",
              "      <td>May</td>\n",
              "      <td>690.0</td>\n",
              "    </tr>\n",
              "    <tr>\n",
              "      <th>124982</th>\n",
              "      <td>Shipped</td>\n",
              "      <td>Amazon</td>\n",
              "      <td>Expedited</td>\n",
              "      <td>XS</td>\n",
              "      <td>Gujarat</td>\n",
              "      <td>Free Shipping</td>\n",
              "      <td>Jacket</td>\n",
              "      <td>May</td>\n",
              "      <td>1079.6</td>\n",
              "    </tr>\n",
              "    <tr>\n",
              "      <th>124983</th>\n",
              "      <td>Shipped</td>\n",
              "      <td>Amazon</td>\n",
              "      <td>Expedited</td>\n",
              "      <td>S</td>\n",
              "      <td>CHHATTISGARH</td>\n",
              "      <td>Free Shipping</td>\n",
              "      <td>Jacket</td>\n",
              "      <td>May</td>\n",
              "      <td>696.0</td>\n",
              "    </tr>\n",
              "  </tbody>\n",
              "</table>\n",
              "</div>\n",
              "      <button class=\"colab-df-convert\" onclick=\"convertToInteractive('df-671c4baf-27f5-490e-ba18-9c54048bd6e7')\"\n",
              "              title=\"Convert this dataframe to an interactive table.\"\n",
              "              style=\"display:none;\">\n",
              "        \n",
              "  <svg xmlns=\"http://www.w3.org/2000/svg\" height=\"24px\"viewBox=\"0 0 24 24\"\n",
              "       width=\"24px\">\n",
              "    <path d=\"M0 0h24v24H0V0z\" fill=\"none\"/>\n",
              "    <path d=\"M18.56 5.44l.94 2.06.94-2.06 2.06-.94-2.06-.94-.94-2.06-.94 2.06-2.06.94zm-11 1L8.5 8.5l.94-2.06 2.06-.94-2.06-.94L8.5 2.5l-.94 2.06-2.06.94zm10 10l.94 2.06.94-2.06 2.06-.94-2.06-.94-.94-2.06-.94 2.06-2.06.94z\"/><path d=\"M17.41 7.96l-1.37-1.37c-.4-.4-.92-.59-1.43-.59-.52 0-1.04.2-1.43.59L10.3 9.45l-7.72 7.72c-.78.78-.78 2.05 0 2.83L4 21.41c.39.39.9.59 1.41.59.51 0 1.02-.2 1.41-.59l7.78-7.78 2.81-2.81c.8-.78.8-2.07 0-2.86zM5.41 20L4 18.59l7.72-7.72 1.47 1.35L5.41 20z\"/>\n",
              "  </svg>\n",
              "      </button>\n",
              "      \n",
              "  <style>\n",
              "    .colab-df-container {\n",
              "      display:flex;\n",
              "      flex-wrap:wrap;\n",
              "      gap: 12px;\n",
              "    }\n",
              "\n",
              "    .colab-df-convert {\n",
              "      background-color: #E8F0FE;\n",
              "      border: none;\n",
              "      border-radius: 50%;\n",
              "      cursor: pointer;\n",
              "      display: none;\n",
              "      fill: #1967D2;\n",
              "      height: 32px;\n",
              "      padding: 0 0 0 0;\n",
              "      width: 32px;\n",
              "    }\n",
              "\n",
              "    .colab-df-convert:hover {\n",
              "      background-color: #E2EBFA;\n",
              "      box-shadow: 0px 1px 2px rgba(60, 64, 67, 0.3), 0px 1px 3px 1px rgba(60, 64, 67, 0.15);\n",
              "      fill: #174EA6;\n",
              "    }\n",
              "\n",
              "    [theme=dark] .colab-df-convert {\n",
              "      background-color: #3B4455;\n",
              "      fill: #D2E3FC;\n",
              "    }\n",
              "\n",
              "    [theme=dark] .colab-df-convert:hover {\n",
              "      background-color: #434B5C;\n",
              "      box-shadow: 0px 1px 3px 1px rgba(0, 0, 0, 0.15);\n",
              "      filter: drop-shadow(0px 1px 2px rgba(0, 0, 0, 0.3));\n",
              "      fill: #FFFFFF;\n",
              "    }\n",
              "  </style>\n",
              "\n",
              "      <script>\n",
              "        const buttonEl =\n",
              "          document.querySelector('#df-671c4baf-27f5-490e-ba18-9c54048bd6e7 button.colab-df-convert');\n",
              "        buttonEl.style.display =\n",
              "          google.colab.kernel.accessAllowed ? 'block' : 'none';\n",
              "\n",
              "        async function convertToInteractive(key) {\n",
              "          const element = document.querySelector('#df-671c4baf-27f5-490e-ba18-9c54048bd6e7');\n",
              "          const dataTable =\n",
              "            await google.colab.kernel.invokeFunction('convertToInteractive',\n",
              "                                                     [key], {});\n",
              "          if (!dataTable) return;\n",
              "\n",
              "          const docLinkHtml = 'Like what you see? Visit the ' +\n",
              "            '<a target=\"_blank\" href=https://colab.research.google.com/notebooks/data_table.ipynb>data table notebook</a>'\n",
              "            + ' to learn more about interactive tables.';\n",
              "          element.innerHTML = '';\n",
              "          dataTable['output_type'] = 'display_data';\n",
              "          await google.colab.output.renderOutput(dataTable, element);\n",
              "          const docLink = document.createElement('div');\n",
              "          docLink.innerHTML = docLinkHtml;\n",
              "          element.appendChild(docLink);\n",
              "        }\n",
              "      </script>\n",
              "    </div>\n",
              "  </div>\n",
              "  "
            ]
          },
          "metadata": {},
          "execution_count": 8
        }
      ]
    },
    {
      "cell_type": "markdown",
      "source": [
        "## 1. Amount Spend On Items Sold: BoxPlot Visualization"
      ],
      "metadata": {
        "id": "z2-RLQAqxnU8"
      }
    },
    {
      "cell_type": "code",
      "source": [
        "# Create a box plot to show the amount spent on each item sold\n",
        "plt.figure(figsize=(10, 6))\n",
        "data.boxplot(column='Amount', by='Category', patch_artist=True, boxprops=dict(facecolor='lightblue'))\n",
        "plt.xlabel('Category')\n",
        "plt.ylabel('Amount')\n",
        "plt.title('Amount Spent on Each Category')\n",
        "plt.xticks(rotation=90)\n",
        "plt.show()"
      ],
      "metadata": {
        "colab": {
          "base_uri": "https://localhost:8080/",
          "height": 549
        },
        "id": "Qf4oxzsvxm5G",
        "outputId": "8e7e00c1-5745-419d-dd8f-89a0fba209c9"
      },
      "execution_count": null,
      "outputs": [
        {
          "output_type": "display_data",
          "data": {
            "text/plain": [
              "<Figure size 1000x600 with 0 Axes>"
            ]
          },
          "metadata": {}
        },
        {
          "output_type": "display_data",
          "data": {
            "text/plain": [
              "<Figure size 640x480 with 1 Axes>"
            ],
            "image/png": "[encoded data removed]"
          },
          "metadata": {}
        }
      ]
    },
    {
      "cell_type": "markdown",
      "source": [
        "# Model Building\n",
        "\n",
        "## Data Preparation\n",
        "-   First Off All; The Data Has Categorical Variables. <br>\n",
        "-   One-Hot Encoding was Done to Convert the Categorical Column Variables into Suitable Values That Could work with Model Building libraries such as `sklearn`\n",
        "-   Next, the Encoded data Is split Into Target Variable `Status_cancelled` and Input Features."
      ],
      "metadata": {
        "id": "vZDrRtwl1rq6"
      }
    },
    {
      "cell_type": "code",
      "source": [
        "#Requirements\n",
        "from sklearn.tree import DecisionTreeClassifier\n",
        "from sklearn.ensemble import RandomForestClassifier\n",
        "from sklearn.metrics import confusion_matrix, accuracy_score\n",
        "from sklearn.model_selection import train_test_split\n"
      ],
      "metadata": {
        "id": "45fwur8f7soN"
      },
      "execution_count": null,
      "outputs": []
    },
    {
      "cell_type": "code",
      "source": [
        "# Specify the categorical columns that need to be one-hot encoded\n",
        "categorical_columns = ['Status', 'Fulfilment', 'Delivery',\n",
        "                       'Size', 'State', 'Promotion',\n",
        "                       'Category', 'Month']\n",
        "\n",
        "# Perform one-hot encoding on the categorical columns\n",
        "encoded_data = pd.get_dummies(data, columns=categorical_columns)\n",
        "\n",
        "# Display the encoded data\n",
        "print(encoded_data.head())\n",
        "print(encoded_data.tail())"
      ],
      "metadata": {
        "colab": {
          "base_uri": "https://localhost:8080/"
        },
        "id": "UBG7RUvh00kX",
        "outputId": "2c4518bd-4ace-4719-b23f-4b8a5b8e7cfd"
      },
      "execution_count": null,
      "outputs": [
        {
          "output_type": "stream",
          "name": "stdout",
          "text": [
            "   Amount  Status_Cancelled  Status_Shipped  Fulfilment_Amazon  \\\n",
            "0  647.62                 1               0                  0   \n",
            "1  406.00                 0               1                  0   \n",
            "2  329.00                 0               1                  1   \n",
            "3  753.33                 1               0                  0   \n",
            "4  574.00                 0               1                  1   \n",
            "\n",
            "   Fulfilment_Merchant  Delivery_Expedited  Delivery_Standard  Size_3XL  \\\n",
            "0                    1                   0                  1         0   \n",
            "1                    1                   0                  1         1   \n",
            "2                    0                   1                  0         0   \n",
            "3                    1                   0                  1         0   \n",
            "4                    0                   1                  0         1   \n",
            "\n",
            "   Size_4XL  Size_5XL  ...  Promotion_None  Category_Denim  Category_Fleece  \\\n",
            "0         0         0  ...               1               0                0   \n",
            "1         0         0  ...               0               1                0   \n",
            "2         0         0  ...               0               1                0   \n",
            "3         0         0  ...               1               0                1   \n",
            "4         0         0  ...               1               0                0   \n",
            "\n",
            "   Category_Hand Bag  Category_Jacket  Category_Shoes  Month_April  \\\n",
            "0                  0                1               0            1   \n",
            "1                  0                0               0            1   \n",
            "2                  0                0               0            1   \n",
            "3                  0                0               0            1   \n",
            "4                  0                0               1            1   \n",
            "\n",
            "   Month_June  Month_March  Month_May  \n",
            "0           0            0          0  \n",
            "1           0            0          0  \n",
            "2           0            0          0  \n",
            "3           0            0          0  \n",
            "4           0            0          0  \n",
            "\n",
            "[5 rows x 98 columns]\n",
            "        Amount  Status_Cancelled  Status_Shipped  Fulfilment_Amazon  \\\n",
            "124979   517.0                 0               1                  1   \n",
            "124980   999.0                 0               1                  1   \n",
            "124981   690.0                 0               1                  1   \n",
            "124982  1079.6                 0               1                  1   \n",
            "124983   696.0                 0               1                  1   \n",
            "\n",
            "        Fulfilment_Merchant  Delivery_Expedited  Delivery_Standard  Size_3XL  \\\n",
            "124979                    0                   1                  0         0   \n",
            "124980                    0                   1                  0         0   \n",
            "124981                    0                   1                  0         0   \n",
            "124982                    0                   1                  0         0   \n",
            "124983                    0                   1                  0         0   \n",
            "\n",
            "        Size_4XL  Size_5XL  ...  Promotion_None  Category_Denim  \\\n",
            "124979         0         0  ...               1               1   \n",
            "124980         0         0  ...               0               0   \n",
            "124981         0         0  ...               1               0   \n",
            "124982         0         0  ...               0               0   \n",
            "124983         0         0  ...               0               0   \n",
            "\n",
            "        Category_Fleece  Category_Hand Bag  Category_Jacket  Category_Shoes  \\\n",
            "124979                0                  0                0               0   \n",
            "124980                0                  0                1               0   \n",
            "124981                1                  0                0               0   \n",
            "124982                0                  0                1               0   \n",
            "124983                0                  0                1               0   \n",
            "\n",
            "        Month_April  Month_June  Month_March  Month_May  \n",
            "124979            0           0            0          1  \n",
            "124980            0           0            0          1  \n",
            "124981            0           0            0          1  \n",
            "124982            0           0            0          1  \n",
            "124983            0           0            0          1  \n",
            "\n",
            "[5 rows x 98 columns]\n"
          ]
        }
      ]
    },
    {
      "cell_type": "code",
      "source": [
        "# split Into Target Variable Status_cancelled and Input Features.\n",
        "X = encoded_data.drop('Status_Cancelled', axis=1)\n",
        "y = encoded_data['Status_Cancelled']"
      ],
      "metadata": {
        "id": "FFDfVoxR5cDA"
      },
      "execution_count": null,
      "outputs": []
    },
    {
      "cell_type": "markdown",
      "source": [
        "# Training and Testing Split\n",
        "The Data Is Split Into a Training (25%) and Testing (75%) Set"
      ],
      "metadata": {
        "id": "FAyzCbxV7UAV"
      }
    },
    {
      "cell_type": "code",
      "source": [
        "# Split the data into training and testing sets\n",
        "X_train, X_test, y_train, y_test = train_test_split(X, y, test_size=0.25, random_state=42)"
      ],
      "metadata": {
        "id": "bOJx2mq97O_m"
      },
      "execution_count": null,
      "outputs": []
    },
    {
      "cell_type": "markdown",
      "source": [
        "## The Random Forest Model\n",
        "*   We Use SimpleImputer to Replace All Missing Values with a Mean"
      ],
      "metadata": {
        "id": "28IxyIts8IiZ"
      }
    },
    {
      "cell_type": "code",
      "source": [
        "## Using Imputer to Take Care of missing Values..\n",
        "from sklearn.impute import SimpleImputer\n",
        "\n",
        "# Create an instance of SimpleImputer with the desired strategy\n",
        "imputer = SimpleImputer(strategy='mean')\n",
        "\n",
        "# Fit the imputer on the training data\n",
        "imputer.fit(X_train)\n",
        "\n",
        "# Transform the training and testing data using the fitted imputer\n",
        "X_train_imputed = imputer.transform(X_train)\n",
        "X_test_imputed = imputer.transform(X_test)"
      ],
      "metadata": {
        "id": "ZzfmOQvM8-14"
      },
      "execution_count": null,
      "outputs": []
    },
    {
      "cell_type": "code",
      "source": [
        "# Decision Tree Model Instance Creation, Building and Fitting\n",
        "# Creating a Confusion Matrix\n",
        "dt_model = DecisionTreeClassifier(random_state=42)\n",
        "dt_model.fit(X_train_imputed, y_train)\n",
        "dt_predictions = dt_model.predict(X_test_imputed)\n",
        "dt_cm = confusion_matrix(y_test, dt_predictions)\n"
      ],
      "metadata": {
        "id": "cNQb-E868LFi"
      },
      "execution_count": null,
      "outputs": []
    },
    {
      "cell_type": "code",
      "source": [
        "# Resimulate Fitting Model On Training Data\n",
        "dt_model.fit(X_train_imputed, y_train)\n"
      ],
      "metadata": {
        "colab": {
          "base_uri": "https://localhost:8080/",
          "height": 75
        },
        "id": "SekPitIv-ImM",
        "outputId": "ad200a83-814e-4395-a72c-f6fd57689caa"
      },
      "execution_count": null,
      "outputs": [
        {
          "output_type": "execute_result",
          "data": {
            "text/plain": [
              "DecisionTreeClassifier(random_state=42)"
            ],
            "text/html": [
              "<style>#sk-container-id-1 {color: black;background-color: white;}#sk-container-id-1 pre{padding: 0;}#sk-container-id-1 div.sk-toggleable {background-color: white;}#sk-container-id-1 label.sk-toggleable__label {cursor: pointer;display: block;width: 100%;margin-bottom: 0;padding: 0.3em;box-sizing: border-box;text-align: center;}#sk-container-id-1 label.sk-toggleable__label-arrow:before {content: \"▸\";float: left;margin-right: 0.25em;color: #696969;}#sk-container-id-1 label.sk-toggleable__label-arrow:hover:before {color: black;}#sk-container-id-1 div.sk-estimator:hover label.sk-toggleable__label-arrow:before {color: black;}#sk-container-id-1 div.sk-toggleable__content {max-height: 0;max-width: 0;overflow: hidden;text-align: left;background-color: #f0f8ff;}#sk-container-id-1 div.sk-toggleable__content pre {margin: 0.2em;color: black;border-radius: 0.25em;background-color: #f0f8ff;}#sk-container-id-1 input.sk-toggleable__control:checked~div.sk-toggleable__content {max-height: 200px;max-width: 100%;overflow: auto;}#sk-container-id-1 input.sk-toggleable__control:checked~label.sk-toggleable__label-arrow:before {content: \"▾\";}#sk-container-id-1 div.sk-estimator input.sk-toggleable__control:checked~label.sk-toggleable__label {background-color: #d4ebff;}#sk-container-id-1 div.sk-label input.sk-toggleable__control:checked~label.sk-toggleable__label {background-color: #d4ebff;}#sk-container-id-1 input.sk-hidden--visually {border: 0;clip: rect(1px 1px 1px 1px);clip: rect(1px, 1px, 1px, 1px);height: 1px;margin: -1px;overflow: hidden;padding: 0;position: absolute;width: 1px;}#sk-container-id-1 div.sk-estimator {font-family: monospace;background-color: #f0f8ff;border: 1px dotted black;border-radius: 0.25em;box-sizing: border-box;margin-bottom: 0.5em;}#sk-container-id-1 div.sk-estimator:hover {background-color: #d4ebff;}#sk-container-id-1 div.sk-parallel-item::after {content: \"\";width: 100%;border-bottom: 1px solid gray;flex-grow: 1;}#sk-container-id-1 div.sk-label:hover label.sk-toggleable__label {background-color: #d4ebff;}#sk-container-id-1 div.sk-serial::before {content: \"\";position: absolute;border-left: 1px solid gray;box-sizing: border-box;top: 0;bottom: 0;left: 50%;z-index: 0;}#sk-container-id-1 div.sk-serial {display: flex;flex-direction: column;align-items: center;background-color: white;padding-right: 0.2em;padding-left: 0.2em;position: relative;}#sk-container-id-1 div.sk-item {position: relative;z-index: 1;}#sk-container-id-1 div.sk-parallel {display: flex;align-items: stretch;justify-content: center;background-color: white;position: relative;}#sk-container-id-1 div.sk-item::before, #sk-container-id-1 div.sk-parallel-item::before {content: \"\";position: absolute;border-left: 1px solid gray;box-sizing: border-box;top: 0;bottom: 0;left: 50%;z-index: -1;}#sk-container-id-1 div.sk-parallel-item {display: flex;flex-direction: column;z-index: 1;position: relative;background-color: white;}#sk-container-id-1 div.sk-parallel-item:first-child::after {align-self: flex-end;width: 50%;}#sk-container-id-1 div.sk-parallel-item:last-child::after {align-self: flex-start;width: 50%;}#sk-container-id-1 div.sk-parallel-item:only-child::after {width: 0;}#sk-container-id-1 div.sk-dashed-wrapped {border: 1px dashed gray;margin: 0 0.4em 0.5em 0.4em;box-sizing: border-box;padding-bottom: 0.4em;background-color: white;}#sk-container-id-1 div.sk-label label {font-family: monospace;font-weight: bold;display: inline-block;line-height: 1.2em;}#sk-container-id-1 div.sk-label-container {text-align: center;}#sk-container-id-1 div.sk-container {/* jupyter's `normalize.less` sets `[hidden] { display: none; }` but bootstrap.min.css set `[hidden] { display: none !important; }` so we also need the `!important` here to be able to override the default hidden behavior on the sphinx rendered scikit-learn.org. See: https://github.com/scikit-learn/scikit-learn/issues/21755 */display: inline-block !important;position: relative;}#sk-container-id-1 div.sk-text-repr-fallback {display: none;}</style><div id=\"sk-container-id-1\" class=\"sk-top-container\"><div class=\"sk-text-repr-fallback\"><pre>DecisionTreeClassifier(random_state=42)</pre><b>In a Jupyter environment, please rerun this cell to show the HTML representation or trust the notebook. <br />On GitHub, the HTML representation is unable to render, please try loading this page with nbviewer.org.</b></div><div class=\"sk-container\" hidden><div class=\"sk-item\"><div class=\"sk-estimator sk-toggleable\"><input class=\"sk-toggleable__control sk-hidden--visually\" id=\"sk-estimator-id-1\" type=\"checkbox\" checked><label for=\"sk-estimator-id-1\" class=\"sk-toggleable__label sk-toggleable__label-arrow\">DecisionTreeClassifier</label><div class=\"sk-toggleable__content\"><pre>DecisionTreeClassifier(random_state=42)</pre></div></div></div></div></div>"
            ]
          },
          "metadata": {},
          "execution_count": 30
        }
      ]
    },
    {
      "cell_type": "markdown",
      "source": [
        "## Random Forest Model\n",
        "-   We Create and Train the Random Forest Model Using the Same Imputed Data as the Decision Tree"
      ],
      "metadata": {
        "id": "TRWuiifH-ytg"
      }
    },
    {
      "cell_type": "code",
      "source": [
        "# Instanciating\n",
        "rf_model = RandomForestClassifier(random_state=42)\n",
        "# Fitting the model data\n",
        "rf_model.fit(X_train_imputed, y_train)\n",
        "\n"
      ],
      "metadata": {
        "colab": {
          "base_uri": "https://localhost:8080/",
          "height": 75
        },
        "id": "vSFyvr_r-Vw_",
        "outputId": "4966ae70-db9d-456b-a0ba-adfa683bab59"
      },
      "execution_count": null,
      "outputs": [
        {
          "output_type": "execute_result",
          "data": {
            "text/plain": [
              "RandomForestClassifier(random_state=42)"
            ],
            "text/html": [
              "<style>#sk-container-id-2 {color: black;background-color: white;}#sk-container-id-2 pre{padding: 0;}#sk-container-id-2 div.sk-toggleable {background-color: white;}#sk-container-id-2 label.sk-toggleable__label {cursor: pointer;display: block;width: 100%;margin-bottom: 0;padding: 0.3em;box-sizing: border-box;text-align: center;}#sk-container-id-2 label.sk-toggleable__label-arrow:before {content: \"▸\";float: left;margin-right: 0.25em;color: #696969;}#sk-container-id-2 label.sk-toggleable__label-arrow:hover:before {color: black;}#sk-container-id-2 div.sk-estimator:hover label.sk-toggleable__label-arrow:before {color: black;}#sk-container-id-2 div.sk-toggleable__content {max-height: 0;max-width: 0;overflow: hidden;text-align: left;background-color: #f0f8ff;}#sk-container-id-2 div.sk-toggleable__content pre {margin: 0.2em;color: black;border-radius: 0.25em;background-color: #f0f8ff;}#sk-container-id-2 input.sk-toggleable__control:checked~div.sk-toggleable__content {max-height: 200px;max-width: 100%;overflow: auto;}#sk-container-id-2 input.sk-toggleable__control:checked~label.sk-toggleable__label-arrow:before {content: \"▾\";}#sk-container-id-2 div.sk-estimator input.sk-toggleable__control:checked~label.sk-toggleable__label {background-color: #d4ebff;}#sk-container-id-2 div.sk-label input.sk-toggleable__control:checked~label.sk-toggleable__label {background-color: #d4ebff;}#sk-container-id-2 input.sk-hidden--visually {border: 0;clip: rect(1px 1px 1px 1px);clip: rect(1px, 1px, 1px, 1px);height: 1px;margin: -1px;overflow: hidden;padding: 0;position: absolute;width: 1px;}#sk-container-id-2 div.sk-estimator {font-family: monospace;background-color: #f0f8ff;border: 1px dotted black;border-radius: 0.25em;box-sizing: border-box;margin-bottom: 0.5em;}#sk-container-id-2 div.sk-estimator:hover {background-color: #d4ebff;}#sk-container-id-2 div.sk-parallel-item::after {content: \"\";width: 100%;border-bottom: 1px solid gray;flex-grow: 1;}#sk-container-id-2 div.sk-label:hover label.sk-toggleable__label {background-color: #d4ebff;}#sk-container-id-2 div.sk-serial::before {content: \"\";position: absolute;border-left: 1px solid gray;box-sizing: border-box;top: 0;bottom: 0;left: 50%;z-index: 0;}#sk-container-id-2 div.sk-serial {display: flex;flex-direction: column;align-items: center;background-color: white;padding-right: 0.2em;padding-left: 0.2em;position: relative;}#sk-container-id-2 div.sk-item {position: relative;z-index: 1;}#sk-container-id-2 div.sk-parallel {display: flex;align-items: stretch;justify-content: center;background-color: white;position: relative;}#sk-container-id-2 div.sk-item::before, #sk-container-id-2 div.sk-parallel-item::before {content: \"\";position: absolute;border-left: 1px solid gray;box-sizing: border-box;top: 0;bottom: 0;left: 50%;z-index: -1;}#sk-container-id-2 div.sk-parallel-item {display: flex;flex-direction: column;z-index: 1;position: relative;background-color: white;}#sk-container-id-2 div.sk-parallel-item:first-child::after {align-self: flex-end;width: 50%;}#sk-container-id-2 div.sk-parallel-item:last-child::after {align-self: flex-start;width: 50%;}#sk-container-id-2 div.sk-parallel-item:only-child::after {width: 0;}#sk-container-id-2 div.sk-dashed-wrapped {border: 1px dashed gray;margin: 0 0.4em 0.5em 0.4em;box-sizing: border-box;padding-bottom: 0.4em;background-color: white;}#sk-container-id-2 div.sk-label label {font-family: monospace;font-weight: bold;display: inline-block;line-height: 1.2em;}#sk-container-id-2 div.sk-label-container {text-align: center;}#sk-container-id-2 div.sk-container {/* jupyter's `normalize.less` sets `[hidden] { display: none; }` but bootstrap.min.css set `[hidden] { display: none !important; }` so we also need the `!important` here to be able to override the default hidden behavior on the sphinx rendered scikit-learn.org. See: https://github.com/scikit-learn/scikit-learn/issues/21755 */display: inline-block !important;position: relative;}#sk-container-id-2 div.sk-text-repr-fallback {display: none;}</style><div id=\"sk-container-id-2\" class=\"sk-top-container\"><div class=\"sk-text-repr-fallback\"><pre>RandomForestClassifier(random_state=42)</pre><b>In a Jupyter environment, please rerun this cell to show the HTML representation or trust the notebook. <br />On GitHub, the HTML representation is unable to render, please try loading this page with nbviewer.org.</b></div><div class=\"sk-container\" hidden><div class=\"sk-item\"><div class=\"sk-estimator sk-toggleable\"><input class=\"sk-toggleable__control sk-hidden--visually\" id=\"sk-estimator-id-2\" type=\"checkbox\" checked><label for=\"sk-estimator-id-2\" class=\"sk-toggleable__label sk-toggleable__label-arrow\">RandomForestClassifier</label><div class=\"sk-toggleable__content\"><pre>RandomForestClassifier(random_state=42)</pre></div></div></div></div></div>"
            ]
          },
          "metadata": {},
          "execution_count": 32
        }
      ]
    },
    {
      "cell_type": "code",
      "source": [
        "# Predicting on the test Data\n",
        "rf_predictions = rf_model.predict(X_test_imputed)\n"
      ],
      "metadata": {
        "id": "WUyueY_S_i8c"
      },
      "execution_count": null,
      "outputs": []
    },
    {
      "cell_type": "code",
      "source": [
        "# Creating a Confusion Matrix\n",
        "rf_cm = confusion_matrix(y_test, rf_predictions)\n"
      ],
      "metadata": {
        "id": "sTYF1rYW_ugk"
      },
      "execution_count": null,
      "outputs": []
    },
    {
      "cell_type": "markdown",
      "source": [
        "## Accuracy Scores Calculations\n",
        "We Calculate the Accuracy Scores for Both Models Above"
      ],
      "metadata": {
        "id": "gZXn_vIh_8fn"
      }
    },
    {
      "cell_type": "code",
      "source": [
        "dt_accuracy = accuracy_score(y_test, dt_predictions)\n",
        "rf_accuracy = accuracy_score(y_test, rf_predictions)"
      ],
      "metadata": {
        "id": "hN8vxMLU_45j"
      },
      "execution_count": null,
      "outputs": []
    },
    {
      "cell_type": "markdown",
      "source": [
        "# Results Displayed\n",
        "-  The Results of Both Models are As Displayed Below..."
      ],
      "metadata": {
        "id": "TycS31dbAPts"
      }
    },
    {
      "cell_type": "code",
      "source": [
        "print(\"Decision Tree Confusion Matrix:\")\n",
        "print(dt_cm)\n",
        "print(\"Decision Tree Accuracy Score:\", dt_accuracy)\n",
        "print()\n",
        "print(\"Random Forest Confusion Matrix:\")\n",
        "print(rf_cm)\n",
        "print(\"Random Forest Accuracy Score:\", rf_accuracy)\n"
      ],
      "metadata": {
        "colab": {
          "base_uri": "https://localhost:8080/"
        },
        "id": "XxQT-_SgAKkL",
        "outputId": "c86a2d41-cda6-4725-89a7-d1c0ee6f3bd6"
      },
      "execution_count": null,
      "outputs": [
        {
          "output_type": "stream",
          "name": "stdout",
          "text": [
            "Decision Tree Confusion Matrix:\n",
            "[[26359     0]\n",
            " [    0  4887]]\n",
            "Decision Tree Accuracy Score: 1.0\n",
            "\n",
            "Random Forest Confusion Matrix:\n",
            "[[26359     0]\n",
            " [    0  4887]]\n",
            "Random Forest Accuracy Score: 1.0\n"
          ]
        }
      ]
    }
  ]
}