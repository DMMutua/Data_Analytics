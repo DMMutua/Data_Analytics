{
  "nbformat": 4,
  "nbformat_minor": 0,
  "metadata": {
    "colab": {
      "provenance": []
    },
    "kernelspec": {
      "name": "python3",
      "display_name": "Python 3"
    },
    "language_info": {
      "name": "python"
    }
  },
  "cells": [
    {
      "cell_type": "code",
      "execution_count": null,
      "metadata": {
        "colab": {
          "base_uri": "https://localhost:8080/"
        },
        "id": "HRyDT28qAyT8",
        "outputId": "acf276a4-773d-4799-9872-6d40430a8637"
      },
      "outputs": [
        {
          "output_type": "stream",
          "name": "stdout",
          "text": [
            "Requirement already satisfied: numpy in /usr/local/lib/python3.10/dist-packages (1.23.5)\n",
            "Requirement already satisfied: scipy in /usr/local/lib/python3.10/dist-packages (1.10.1)\n",
            "Requirement already satisfied: numpy<1.27.0,>=1.19.5 in /usr/local/lib/python3.10/dist-packages (from scipy) (1.23.5)\n"
          ]
        }
      ],
      "source": [
        "!pip install numpy\n",
        "!pip install scipy"
      ]
    },
    {
      "cell_type": "code",
      "source": [
        "import numpy as np\n",
        "from scipy import stats\n"
      ],
      "metadata": {
        "id": "vy3zTjd0BLHI"
      },
      "execution_count": null,
      "outputs": []
    },
    {
      "cell_type": "code",
      "source": [
        "# Data\n",
        "ln_v = np.array([-1.5828, -0.9872, -0.5113, -0.2683, -0.1231, -0.0856, 0.2124, 0.3661, 0.5095, 0.6148])\n",
        "ln_i = np.array([-3.0428, -2.3497, -1.6363, -1.2917, -0.9681, -1.7131, -0.1035, 0.3115, 0.5753, 0.7601])"
      ],
      "metadata": {
        "id": "UiLgxgOQA4g9"
      },
      "execution_count": null,
      "outputs": []
    },
    {
      "cell_type": "code",
      "source": [
        "# Perform linear regression\n",
        "slope, intercept, r_value, p_value, std_err = stats.linregress(ln_v, ln_i)"
      ],
      "metadata": {
        "id": "bi0W72c0BPp_"
      },
      "execution_count": null,
      "outputs": []
    },
    {
      "cell_type": "code",
      "source": [
        "# Intercept corresponds to ln(8μ)\n",
        "intercept_ln8mu = intercept"
      ],
      "metadata": {
        "id": "BvfnjUXtBUEn"
      },
      "execution_count": null,
      "outputs": []
    },
    {
      "cell_type": "code",
      "source": [
        "# Solve for μ\n",
        "mu = np.exp(intercept_ln8mu) / 8"
      ],
      "metadata": {
        "id": "YSoELIqRBbic"
      },
      "execution_count": null,
      "outputs": []
    },
    {
      "cell_type": "code",
      "source": [
        "print(f\"Intercept (ln(8μ)): {intercept_ln8mu}\")\n",
        "print(f\"Viscosity (μ): {mu}\")"
      ],
      "metadata": {
        "colab": {
          "base_uri": "https://localhost:8080/"
        },
        "id": "RiVxiFESBgDo",
        "outputId": "176d8af5-df8e-4aa4-8ff4-20e83b9d9bca"
      },
      "execution_count": null,
      "outputs": [
        {
          "output_type": "stream",
          "name": "stdout",
          "text": [
            "Intercept (ln(8μ)): -0.614956863682668\n",
            "Viscosity (μ): 0.0675830271336929\n"
          ]
        }
      ]
    },
    {
      "cell_type": "markdown",
      "source": [
        "2. A Summary of The Code is Given Below;"
      ],
      "metadata": {
        "id": "u7eT8rqdEIb4"
      }
    },
    {
      "cell_type": "code",
      "source": [
        "# Necessary Python Libraries\n",
        "pip install numpy\n",
        "pip install scipy\n",
        "\n",
        "import numpy as np\n",
        "from scipy import stats\n",
        "\n",
        "# Data\n",
        "ln_v = np.array([-1.5828, -0.9872, -0.5113, -0.2683, -0.1231, -0.0856, 0.2124, 0.3661, 0.5095, 0.6148])\n",
        "ln_i = np.array([-3.0428, -2.3497, -1.6363, -1.2917, -0.9681, -1.7131, -0.1035, 0.3115, 0.5753, 0.7601])\n",
        "\n",
        "# Perform linear regression\n",
        "slope, intercept, r_value, p_value, std_err = stats.linregress(ln_v, ln_i)\n",
        "\n",
        "# Intercept corresponds to ln(8μ)\n",
        "intercept_ln8mu = intercept\n",
        "\n",
        "# Solve for μ\n",
        "mu = np.exp(intercept_ln8mu) / 8\n",
        "\n",
        "print(f\"Intercept (ln(8μ)): {intercept_ln8mu}\")\n",
        "print(f\"Viscosity (μ): {mu}\")"
      ],
      "metadata": {
        "id": "VI3B_ExTDfC9"
      },
      "execution_count": null,
      "outputs": []
    },
    {
      "cell_type": "markdown",
      "source": [
        "3. Calculating f for each data point;"
      ],
      "metadata": {
        "id": "Y81cZykZJ0az"
      }
    },
    {
      "cell_type": "code",
      "source": [
        "g = 9.81 # Acceleration due to gravity (m/s^2)\n",
        "\n",
        "f_values = (2 * g * np.exp(ln_i)) / np.exp(2 * ln_v)\n",
        "print(f_values)"
      ],
      "metadata": {
        "colab": {
          "base_uri": "https://localhost:8080/"
        },
        "id": "FljzJJNsDo_Y",
        "outputId": "418e3220-74ce-4ba2-c38b-cbda1ca1cb05"
      },
      "execution_count": null,
      "outputs": [
        {
          "output_type": "stream",
          "name": "stdout",
          "text": [
            "[22.18351519 13.48057087 10.62117292  9.22068615  9.53195134  4.1981731\n",
            " 11.56807853 12.88223788 12.58932779 12.26867731]\n"
          ]
        }
      ]
    },
    {
      "cell_type": "markdown",
      "source": [
        "Calculating Reynolds Number for Each Measurement.."
      ],
      "metadata": {
        "id": "tXZlP4pNLDDv"
      }
    },
    {
      "cell_type": "code",
      "source": [
        "D = 0.1 # Pipe Diameter\n",
        "# ρ is approximately 1000 kg/m³ For Water at 20 C\n",
        "\n",
        "#Reynolds Numbers for Each Measurement\n",
        "Re_values = (1000 * np.exp(ln_v) * D) / mu\n",
        "print(Re_values)"
      ],
      "metadata": {
        "colab": {
          "base_uri": "https://localhost:8080/"
        },
        "id": "ZifI8hVVK4tM",
        "outputId": "c7cc55e6-258a-4c8e-80ce-114b724e2a8a"
      },
      "execution_count": null,
      "outputs": [
        {
          "output_type": "stream",
          "name": "stdout",
          "text": [
            "[ 303.92124075  551.34932468  887.37582081 1131.46506692 1308.28001958\n",
            " 1358.27201187 1829.81215193 2133.81895803 2462.83546042 2736.3182498 ]\n"
          ]
        }
      ]
    },
    {
      "cell_type": "code",
      "source": [
        "type(Re_values)"
      ],
      "metadata": {
        "colab": {
          "base_uri": "https://localhost:8080/"
        },
        "id": "GYQ95mQLQOlo",
        "outputId": "044839db-d182-4a26-beda-7d5e6f95950a"
      },
      "execution_count": null,
      "outputs": [
        {
          "output_type": "execute_result",
          "data": {
            "text/plain": [
              "numpy.ndarray"
            ]
          },
          "metadata": {},
          "execution_count": 16
        }
      ]
    },
    {
      "cell_type": "markdown",
      "source": [
        "4. Calculating the Transitional Velocity `(Vt)`"
      ],
      "metadata": {
        "id": "BeQyCfAPPZAb"
      }
    },
    {
      "cell_type": "code",
      "source": [
        "#Data for Laminar Flow\n",
        "ln_Re_laminar = secondRe_values\n",
        "ln_f_laminar = secondf_values\n",
        "\n",
        "#  Perform linear regression for laminar flow\n",
        "slope_laminar, intercept_laminar, r_value_laminar, p_value_laminar, std_err_laminar = stats.linregress(ln_Re_laminar, ln_f_laminar)\n",
        "\n",
        "# Calculate the intersection point with the x-axis (transition point)\n",
        "vt = np.exp(-intercept_laminar / slope_laminar)\n",
        "transition_Re = np.exp(-intercept_laminar) / slope_laminar\n",
        "\n",
        "print(f\"Transitional Velocity (vt): {vt}\")\n",
        "print(f\"Transitional Reynolds Number (Re_t): {transition_Re}\")"
      ],
      "metadata": {
        "colab": {
          "base_uri": "https://localhost:8080/"
        },
        "id": "zs26H0XYPWuy",
        "outputId": "0047206c-8eaa-47df-c15a-2575fe1ac7f4"
      },
      "execution_count": null,
      "outputs": [
        {
          "output_type": "stream",
          "name": "stdout",
          "text": [
            "Transitional Velocity (vt): 0.0\n",
            "Transitional Reynolds Number (Re_t): -1.403590858409808e+281\n"
          ]
        }
      ]
    },
    {
      "cell_type": "code",
      "source": [
        "secondf_values = (2 * g * ln_i) / ln_v ** 2\n",
        "print(secondf_values)"
      ],
      "metadata": {
        "colab": {
          "base_uri": "https://localhost:8080/"
        },
        "id": "leSx4TYkRpfD",
        "outputId": "63efa0e5-7e6b-40eb-8256-b5f4fe3ce117"
      },
      "execution_count": null,
      "outputs": [
        {
          "output_type": "stream",
          "name": "stdout",
          "text": [
            "[  -23.82979616   -47.30435515  -122.80338781  -352.06213415\n",
            " -1253.43875156 -4587.05754869   -45.01220914    45.59923915\n",
            "    43.48154832    39.45499729]\n"
          ]
        }
      ]
    },
    {
      "cell_type": "code",
      "source": [
        "secondRe_values = (1000 * ln_v * D) / mu\n",
        "print(secondRe_values)"
      ],
      "metadata": {
        "colab": {
          "base_uri": "https://localhost:8080/"
        },
        "id": "BEYEGJxISGqw",
        "outputId": "34ef55db-bf5f-4d27-a592-1751b664eb92"
      },
      "execution_count": null,
      "outputs": [
        {
          "output_type": "stream",
          "name": "stdout",
          "text": [
            "[-2342.00814484 -1460.72178455  -756.55089996  -396.99316734\n",
            "  -182.14632463  -126.65902022   314.28009222   541.70405726\n",
            "   753.88750935   909.69586015]\n"
          ]
        }
      ]
    },
    {
      "cell_type": "code",
      "source": [],
      "metadata": {
        "id": "pHAya4F9ScCT"
      },
      "execution_count": null,
      "outputs": []
    }
  ]
}