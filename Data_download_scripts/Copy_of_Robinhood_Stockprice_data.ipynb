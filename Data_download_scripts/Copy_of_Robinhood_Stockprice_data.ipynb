{
  "nbformat": 4,
  "nbformat_minor": 0,
  "metadata": {
    "colab": {
      "provenance": []
    },
    "kernelspec": {
      "name": "python3",
      "display_name": "Python 3"
    },
    "language_info": {
      "name": "python"
    }
  },
  "cells": [
    {
      "cell_type": "markdown",
      "source": [
        "In this Simple Beginner-Friendly Python Script, I use the `yfinance` API to download historical stockprice information for Robinhood Markets, Inc. (HOOD). Python library `Openpyxl` is used to convert the downloaded data into an Excel Spreadsheet and `google_colab` is used to download the spreadsheet.\n",
        "This Script was developed on the **Google Colaboratory** Platform.\n"
      ],
      "metadata": {
        "id": "7nhcPC9HQXMZ"
      }
    },
    {
      "cell_type": "markdown",
      "source": [],
      "metadata": {
        "id": "ysAnGWOIQVsq"
      }
    },
    {
      "cell_type": "code",
      "source": [
        "!pip install yfinance\n",
        "!pip install folium\n"
      ],
      "metadata": {
        "id": "iaME5TZkRQrf"
      },
      "execution_count": null,
      "outputs": []
    },
    {
      "cell_type": "code",
      "source": [
        "import yfinance as yf"
      ],
      "metadata": {
        "id": "WoVmM2rFStPp"
      },
      "execution_count": null,
      "outputs": []
    },
    {
      "cell_type": "code",
      "source": [
        "#set the ticker for Robinhood\n",
        "hood = yf.Ticker(\"HOOD\")"
      ],
      "metadata": {
        "id": "0th-LRSrT2aF"
      },
      "execution_count": null,
      "outputs": []
    },
    {
      "cell_type": "code",
      "source": [
        "#get historical market data for Robinhood in the 1 day Interval range\n",
        "robinhood_1d = hood.history(period=\"max\", interval=\"1d\", index=)"
      ],
      "metadata": {
        "id": "mT_a77zTUBFd"
      },
      "execution_count": null,
      "outputs": []
    },
    {
      "cell_type": "markdown",
      "source": [
        "For Intraday data - like 5 minute Interval, `yfinance` dictates that the period must be set within the last 60 days. As such, 5m interval data will be downloaded from June 28 to August 25, 2022."
      ],
      "metadata": {
        "id": "Key0JEKGXMTD"
      }
    },
    {
      "cell_type": "code",
      "source": [
        "\n",
        "RH_12 = hood.history(start=\"2022-06-28\", end=\"2022-08-25\", interval=\"5m\")"
      ],
      "metadata": {
        "id": "QQFzN5JwYIRF"
      },
      "execution_count": null,
      "outputs": []
    },
    {
      "cell_type": "code",
      "source": [
        "#Resetting the Index to Ensure Datetime is Displayed as a Column\n",
        "RH_12 = RH_12.reset_index()"
      ],
      "metadata": {
        "id": "leedItQY1BoV"
      },
      "execution_count": null,
      "outputs": []
    },
    {
      "cell_type": "code",
      "source": [
        "print(RH_12.dtypes)"
      ],
      "metadata": {
        "colab": {
          "base_uri": "https://localhost:8080/"
        },
        "id": "-vyJ-YkNruW3",
        "outputId": "72f4cd63-236d-44e3-d4fb-d1dc4515a04b"
      },
      "execution_count": null,
      "outputs": [
        {
          "output_type": "stream",
          "name": "stdout",
          "text": [
            "Datetime        datetime64[ns, America/New_York]\n",
            "Open                                     float64\n",
            "High                                     float64\n",
            "Low                                      float64\n",
            "Close                                    float64\n",
            "Volume                                     int64\n",
            "Dividends                                  int64\n",
            "Stock Splits                               int64\n",
            "dtype: object\n"
          ]
        }
      ]
    },
    {
      "cell_type": "code",
      "source": [
        "#Converting the datetime to string\n",
        "RH_12['Datetime'] = RH_12['Datetime'].astype(str)"
      ],
      "metadata": {
        "id": "NqDQuW4u3E2j"
      },
      "execution_count": null,
      "outputs": []
    },
    {
      "cell_type": "code",
      "source": [
        "print(RH_12.dtypes)"
      ],
      "metadata": {
        "colab": {
          "base_uri": "https://localhost:8080/"
        },
        "id": "2HAifEfo3a-K",
        "outputId": "24898739-3822-4247-9026-fdc1ef5f8b51"
      },
      "execution_count": null,
      "outputs": [
        {
          "output_type": "stream",
          "name": "stdout",
          "text": [
            "Datetime         object\n",
            "Open            float64\n",
            "High            float64\n",
            "Low             float64\n",
            "Close           float64\n",
            "Volume            int64\n",
            "Dividends         int64\n",
            "Stock Splits      int64\n",
            "dtype: object\n"
          ]
        }
      ]
    },
    {
      "cell_type": "markdown",
      "source": [
        "Now; Using the `Openpyxl` and `Pandas` Libraries to load data into an Excel Sheet;"
      ],
      "metadata": {
        "id": "4nwdyfhlicsF"
      }
    },
    {
      "cell_type": "code",
      "source": [
        "!pip install Openpyxl"
      ],
      "metadata": {
        "colab": {
          "base_uri": "https://localhost:8080/"
        },
        "id": "1iFI4RhKiogO",
        "outputId": "5e70d368-d752-455d-8125-5147dc94786f"
      },
      "execution_count": null,
      "outputs": [
        {
          "output_type": "stream",
          "name": "stdout",
          "text": [
            "Looking in indexes: https://pypi.org/simple, https://us-python.pkg.dev/colab-wheels/public/simple/\n",
            "Requirement already satisfied: Openpyxl in /usr/local/lib/python3.7/dist-packages (3.0.10)\n",
            "Requirement already satisfied: et-xmlfile in /usr/local/lib/python3.7/dist-packages (from Openpyxl) (1.1.0)\n"
          ]
        }
      ]
    },
    {
      "cell_type": "code",
      "source": [
        "#Creating a New Workbook with Three Sheets\n",
        "from openpyxl import Workbook\n",
        "data_wb = Workbook()\n",
        "\n",
        "#####The line below sets the sheet to store dates in the ISO 8601 Format###################\n",
        "data_wb.iso_dates = True  #important to ensure the 5-min data is stored with timezone data#\n",
        "###########################################################################################\n",
        "\n",
        "ws1 = data_wb.create_sheet(\"1D_data_all\", 0)\n",
        "ws2 = data_wb.create_sheet(\"5M-data_last60days\", 1)"
      ],
      "metadata": {
        "id": "RFcKq9tFiuQV"
      },
      "execution_count": null,
      "outputs": []
    },
    {
      "cell_type": "markdown",
      "source": [
        "Loading The Pandas Dataframes into the Worksheet;"
      ],
      "metadata": {
        "id": "ieac7xRjkLQt"
      }
    },
    {
      "cell_type": "code",
      "source": [
        "from openpyxl.utils.dataframe import dataframe_to_rows\n",
        "\n",
        "for r in dataframe_to_rows(robinhood_1d, index=True, header=True):\n",
        "    ws1.append(r)\n",
        "\n",
        "for z in dataframe_to_rows(RH_12, index=False, header=True):\n",
        "    ws2.append(z)"
      ],
      "metadata": {
        "id": "RRSuoYx4iuPU"
      },
      "execution_count": null,
      "outputs": []
    },
    {
      "cell_type": "code",
      "source": [
        "#Saving the Workbook\n",
        "data_wb.save('RobinHood Historical Stock Data.xls')"
      ],
      "metadata": {
        "id": "IJUB51sQlUlc"
      },
      "execution_count": null,
      "outputs": []
    },
    {
      "cell_type": "markdown",
      "source": [
        "Finally, Downloading the Workbook from Google Colab;"
      ],
      "metadata": {
        "id": "8mmtAtprlHbu"
      }
    },
    {
      "cell_type": "code",
      "source": [
        "from google.colab import files\n",
        "files.download('RobinHood Historical Stock Data.xls')"
      ],
      "metadata": {
        "colab": {
          "base_uri": "https://localhost:8080/",
          "height": 17
        },
        "id": "Lq0eeDwLlGok",
        "outputId": "1e382e20-89fe-4cbc-8909-d957b180fbd6"
      },
      "execution_count": null,
      "outputs": [
        {
          "output_type": "display_data",
          "data": {
            "text/plain": [
              "<IPython.core.display.Javascript object>"
            ],
            "application/javascript": [
              "\n",
              "    async function download(id, filename, size) {\n",
              "      if (!google.colab.kernel.accessAllowed) {\n",
              "        return;\n",
              "      }\n",
              "      const div = document.createElement('div');\n",
              "      const label = document.createElement('label');\n",
              "      label.textContent = `Downloading \"${filename}\": `;\n",
              "      div.appendChild(label);\n",
              "      const progress = document.createElement('progress');\n",
              "      progress.max = size;\n",
              "      div.appendChild(progress);\n",
              "      document.body.appendChild(div);\n",
              "\n",
              "      const buffers = [];\n",
              "      let downloaded = 0;\n",
              "\n",
              "      const channel = await google.colab.kernel.comms.open(id);\n",
              "      // Send a message to notify the kernel that we're ready.\n",
              "      channel.send({})\n",
              "\n",
              "      for await (const message of channel.messages) {\n",
              "        // Send a message to notify the kernel that we're ready.\n",
              "        channel.send({})\n",
              "        if (message.buffers) {\n",
              "          for (const buffer of message.buffers) {\n",
              "            buffers.push(buffer);\n",
              "            downloaded += buffer.byteLength;\n",
              "            progress.value = downloaded;\n",
              "          }\n",
              "        }\n",
              "      }\n",
              "      const blob = new Blob(buffers, {type: 'application/binary'});\n",
              "      const a = document.createElement('a');\n",
              "      a.href = window.URL.createObjectURL(blob);\n",
              "      a.download = filename;\n",
              "      div.appendChild(a);\n",
              "      a.click();\n",
              "      div.remove();\n",
              "    }\n",
              "  "
            ]
          },
          "metadata": {}
        },
        {
          "output_type": "display_data",
          "data": {
            "text/plain": [
              "<IPython.core.display.Javascript object>"
            ],
            "application/javascript": [
              "download(\"download_0b03ee53-f0df-4a5a-b012-99a39ab8b0bd\", \"RobinHood Historical Stock Data.xls\", 158201)"
            ]
          },
          "metadata": {}
        }
      ]
    }
  ]
}