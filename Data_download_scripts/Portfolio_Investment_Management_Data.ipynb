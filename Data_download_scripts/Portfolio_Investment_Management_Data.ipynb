{
  "nbformat": 4,
  "nbformat_minor": 0,
  "metadata": {
    "colab": {
      "provenance": []
    },
    "kernelspec": {
      "name": "python3",
      "display_name": "Python 3"
    },
    "language_info": {
      "name": "python"
    }
  },
  "cells": [
    {
      "cell_type": "markdown",
      "source": [
        "This Notebook is specifically dedicated to the download of Financial Data from Yahoo Finance using the```Yahoo_fin``` API. Data Downloaded in this Form was Used to Make Investment Decisions on a broader Portfolio Creation and Management Project.\n",
        "\n"
      ],
      "metadata": {
        "id": "X9Cxz0oR2Kq9"
      }
    },
    {
      "cell_type": "code",
      "source": [
        "#Installing the Necessary Libraries\n",
        "!pip install yahoo_fin\n",
        "!pip install folium"
      ],
      "metadata": {
        "id": "rY04vZ-E2_YA"
      },
      "execution_count": null,
      "outputs": []
    },
    {
      "cell_type": "code",
      "source": [
        "!pip install pandas as pd\n",
        "!pip install_datetime as dt"
      ],
      "metadata": {
        "id": "xI4N2UmmBg8M"
      },
      "execution_count": null,
      "outputs": []
    },
    {
      "cell_type": "code",
      "source": [
        "from pandas import DataFrame"
      ],
      "metadata": {
        "id": "cR5paV40CoP8"
      },
      "execution_count": null,
      "outputs": []
    },
    {
      "cell_type": "code",
      "source": [
        "from yahoo_fin import stock_info as si\n",
        "\n",
        "#Setting the Dates Intervals for data download\n",
        "sd = '2017-05-18'\n",
        "ed = '2022-05-18'"
      ],
      "metadata": {
        "id": "DDxppsWE3ezs"
      },
      "execution_count": null,
      "outputs": []
    },
    {
      "cell_type": "code",
      "source": [
        "etf_list = ['VISVX', 'IBB', 'ICLN', 'SMH', 'MCHI', 'VHF', 'SHY', 'SPY']"
      ],
      "metadata": {
        "id": "4E-HlxFI4WiP"
      },
      "execution_count": null,
      "outputs": []
    },
    {
      "cell_type": "code",
      "source": [
        "visvx_etf = si.get_data('VISVX', start_date=sd, end_date=ed, index_as_date = True, interval=\"1mo\")"
      ],
      "metadata": {
        "id": "35DXh4XV80p9"
      },
      "execution_count": null,
      "outputs": []
    },
    {
      "cell_type": "code",
      "source": [
        "ibb_etf = si.get_data('IBB', start_date=sd, end_date=ed, index_as_date = True, interval=\"1mo\")\n",
        "icln_etf = si.get_data('ICLN', start_date=sd, end_date=ed, index_as_date = True, interval=\"1mo\")\n",
        "smh_etf = si.get_data('SMH', start_date=sd, end_date=ed, index_as_date = True, interval=\"1mo\")\n",
        "mchi_etf = si.get_data('MCHI', start_date=sd, end_date=ed, index_as_date = True, interval=\"1mo\")\n",
        "shy_etf = si.get_data('SHY', start_date=sd, end_date=ed, index_as_date = True, interval=\"1mo\")\n",
        "spy_etf = si.get_data('SPY', start_date=sd, end_date=ed, index_as_date = True, interval=\"1mo\")"
      ],
      "metadata": {
        "id": "f5nUbLFnEWpF"
      },
      "execution_count": null,
      "outputs": []
    },
    {
      "cell_type": "markdown",
      "source": [
        "Loading the Data in an Excel Spreadsheet;"
      ],
      "metadata": {
        "id": "NJy4DzKsIQvl"
      }
    },
    {
      "cell_type": "code",
      "source": [
        "!pip install Openpyxl"
      ],
      "metadata": {
        "colab": {
          "base_uri": "https://localhost:8080/"
        },
        "id": "2oSHUBgpHIYn",
        "outputId": "517c65a9-ac75-480f-e7ac-b7ba71de364c"
      },
      "execution_count": null,
      "outputs": [
        {
          "output_type": "stream",
          "name": "stdout",
          "text": [
            "Looking in indexes: https://pypi.org/simple, https://us-python.pkg.dev/colab-wheels/public/simple/\n",
            "Requirement already satisfied: Openpyxl in /usr/local/lib/python3.7/dist-packages (3.0.10)\n",
            "Requirement already satisfied: et-xmlfile in /usr/local/lib/python3.7/dist-packages (from Openpyxl) (1.1.0)\n"
          ]
        }
      ]
    },
    {
      "cell_type": "code",
      "source": [
        "\n",
        "from openpyxl import Workbook"
      ],
      "metadata": {
        "id": "-Fx7eemeIpzM"
      },
      "execution_count": null,
      "outputs": []
    },
    {
      "cell_type": "code",
      "source": [
        "\n",
        "#Creating worksheets on the new Workbook\n",
        "etfs_wb = Workbook()\n",
        "ws1 = etfs_wb.create_sheet(\"visvx\", 0)\n",
        "ws2 = etfs_wb.create_sheet(\"ibb\", 1)\n",
        "ws3 = etfs_wb.create_sheet(\"icln\", 2)\n",
        "ws4 = etfs_wb.create_sheet(\"smh\", 3)\n",
        "ws5 = etfs_wb.create_sheet(\"mchi\", 4)\n",
        "ws6 = etfs_wb.create_sheet(\"shy\", 5)\n",
        "ws7 = etfs_wb.create_sheet(\"spy\", 6)"
      ],
      "metadata": {
        "id": "Ikr8-RywJPLH"
      },
      "execution_count": null,
      "outputs": []
    },
    {
      "cell_type": "code",
      "source": [
        "#Downloading the Data into a Worksheet\n",
        "\n",
        "from openpyxl.utils.dataframe import dataframe_to_rows\n",
        "\n",
        "for a in dataframe_to_rows(visvx_etf, index=True, header=True):\n",
        "  ws1.append(a)\n",
        "for b in dataframe_to_rows(ibb_etf, index=True, header=True):\n",
        "  ws2.append(b)\n",
        "for c in dataframe_to_rows(icln_etf, index=True, header=True):\n",
        "  ws3.append(c)"
      ],
      "metadata": {
        "id": "jUrG-eCKL1Ev"
      },
      "execution_count": null,
      "outputs": []
    },
    {
      "cell_type": "code",
      "source": [
        "for d in dataframe_to_rows(smh_etf, index=True, header=True):\n",
        "  ws4.append(d)\n",
        "for e in dataframe_to_rows(mchi_etf, index=True, header=True):\n",
        "  ws5.append(e)\n",
        "for f in dataframe_to_rows(shy_etf, index=True, header=True):\n",
        "  ws6.append(f)\n",
        "for g in dataframe_to_rows(spy_etf, index=True, header=True):\n",
        "  ws7.append(g)"
      ],
      "metadata": {
        "id": "RrQMleqyMTxO"
      },
      "execution_count": null,
      "outputs": []
    },
    {
      "cell_type": "code",
      "source": [
        "#saving workbook\n",
        "etfs_wb.save('ETF Portfolio Optimization data.xls')"
      ],
      "metadata": {
        "id": "SMozGO1IODRR"
      },
      "execution_count": null,
      "outputs": []
    },
    {
      "cell_type": "code",
      "source": [
        "#Downloading the workbook from google colab\n",
        "\n",
        "from google.colab import files\n",
        "files.download('ETF Portfolio Optimization data.xls')"
      ],
      "metadata": {
        "colab": {
          "base_uri": "https://localhost:8080/",
          "height": 17
        },
        "id": "ZCKsPQEoOZWH",
        "outputId": "73dcda0c-7ab6-402d-e219-19783e65965a"
      },
      "execution_count": null,
      "outputs": [
        {
          "output_type": "display_data",
          "data": {
            "text/plain": [
              "<IPython.core.display.Javascript object>"
            ],
            "application/javascript": [
              "\n",
              "    async function download(id, filename, size) {\n",
              "      if (!google.colab.kernel.accessAllowed) {\n",
              "        return;\n",
              "      }\n",
              "      const div = document.createElement('div');\n",
              "      const label = document.createElement('label');\n",
              "      label.textContent = `Downloading \"${filename}\": `;\n",
              "      div.appendChild(label);\n",
              "      const progress = document.createElement('progress');\n",
              "      progress.max = size;\n",
              "      div.appendChild(progress);\n",
              "      document.body.appendChild(div);\n",
              "\n",
              "      const buffers = [];\n",
              "      let downloaded = 0;\n",
              "\n",
              "      const channel = await google.colab.kernel.comms.open(id);\n",
              "      // Send a message to notify the kernel that we're ready.\n",
              "      channel.send({})\n",
              "\n",
              "      for await (const message of channel.messages) {\n",
              "        // Send a message to notify the kernel that we're ready.\n",
              "        channel.send({})\n",
              "        if (message.buffers) {\n",
              "          for (const buffer of message.buffers) {\n",
              "            buffers.push(buffer);\n",
              "            downloaded += buffer.byteLength;\n",
              "            progress.value = downloaded;\n",
              "          }\n",
              "        }\n",
              "      }\n",
              "      const blob = new Blob(buffers, {type: 'application/binary'});\n",
              "      const a = document.createElement('a');\n",
              "      a.href = window.URL.createObjectURL(blob);\n",
              "      a.download = filename;\n",
              "      div.appendChild(a);\n",
              "      a.click();\n",
              "      div.remove();\n",
              "    }\n",
              "  "
            ]
          },
          "metadata": {}
        },
        {
          "output_type": "display_data",
          "data": {
            "text/plain": [
              "<IPython.core.display.Javascript object>"
            ],
            "application/javascript": [
              "download(\"download_bb898a10-4144-44ca-bbe2-ffa66dfb609d\", \"ETF Portfolio Optimization data.xls\", 34241)"
            ]
          },
          "metadata": {}
        }
      ]
    }
  ]
}